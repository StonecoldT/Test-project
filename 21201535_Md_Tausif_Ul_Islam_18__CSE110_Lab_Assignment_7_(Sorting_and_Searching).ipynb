{
  "nbformat": 4,
  "nbformat_minor": 0,
  "metadata": {
    "kernelspec": {
      "display_name": "Python 3",
      "language": "python",
      "name": "python3"
    },
    "language_info": {
      "codemirror_mode": {
        "name": "ipython",
        "version": 3
      },
      "file_extension": ".py",
      "mimetype": "text/x-python",
      "name": "python",
      "nbconvert_exporter": "python",
      "pygments_lexer": "ipython3",
      "version": "3.8.4"
    },
    "colab": {
      "name": "21201535_Md. Tausif-Ul-Islam_18_ CSE110 Lab Assignment 7 (Sorting and Searching).ipynb",
      "provenance": [],
      "collapsed_sections": [],
      "toc_visible": true,
      "include_colab_link": true
    }
  },
  "cells": [
    {
      "cell_type": "markdown",
      "metadata": {
        "id": "view-in-github",
        "colab_type": "text"
      },
      "source": [
        "<a href=\"https://colab.research.google.com/github/StonecoldT/Test-project/blob/main/21201535_Md_Tausif_Ul_Islam_18__CSE110_Lab_Assignment_7_(Sorting_and_Searching).ipynb\" target=\"_parent\"><img src=\"https://colab.research.google.com/assets/colab-badge.svg\" alt=\"Open In Colab\"/></a>"
      ]
    },
    {
      "cell_type": "markdown",
      "metadata": {
        "id": "oMYzsTcnHEll"
      },
      "source": [
        "# CSE110 Lab Assignment 7 on Sorting and Searching\n",
        "\n",
        "Write your name, Student ID and CSE110 section below:\n"
      ]
    },
    {
      "cell_type": "code",
      "metadata": {
        "id": "ljd7OxU2gvWb"
      },
      "source": [
        "#STUDENT NAME:Md.Tausif-Ul-Islam\n",
        "#STUDENT ID:21201535\n",
        "#CSE110 SECTION: 18"
      ],
      "execution_count": null,
      "outputs": []
    },
    {
      "cell_type": "markdown",
      "metadata": {
        "id": "jT-t2zlnHEll"
      },
      "source": [
        "## Write the Python code for the following problems:\n",
        "**<font color='red'>[MUST MAINTAIN VARIABLE NAMING CONVENTIONS FOR ALL THE TASKS]</font>**\n",
        "\n",
        "### Task 1\n",
        "\n",
        "Suppose you have a list named my_list as given below. <br/>\n",
        "my_list = [10,1,20,3,6,2,5,11,15,2,12,14,17,18,29] <br/>\n",
        "Now use bubble sort to sort my_list into ascending order.\n",
        "\n",
        "**Output**<br/>\n",
        "[1, 2, 2, 3, 5, 6, 10, 11, 12, 14, 15, 17, 18, 20, 29]"
      ]
    },
    {
      "cell_type": "code",
      "metadata": {
        "id": "7qXVakLgHElm",
        "colab": {
          "base_uri": "https://localhost:8080/"
        },
        "outputId": "2b400448-ff57-44f5-d176-0beaac5f9f5d"
      },
      "source": [
        "#todo - Bubble sort starts arranging the elements from the top\n",
        "my_list = [10,1,20,3,6,2,5,11,15,2,12,14,17,18,29]\n",
        "for i in range(len(my_list)-1):\n",
        "  for j in range(len(my_list)-i-1):\n",
        "    if my_list[j]>my_list[j+1]:\n",
        "      temp=my_list[j]\n",
        "      my_list[j]=my_list[j+1]\n",
        "      my_list[j+1]=temp\n",
        "print(my_list)"
      ],
      "execution_count": null,
      "outputs": [
        {
          "output_type": "stream",
          "name": "stdout",
          "text": [
            "[1, 2, 2, 3, 5, 6, 10, 11, 12, 14, 15, 17, 18, 20, 29]\n"
          ]
        }
      ]
    },
    {
      "cell_type": "markdown",
      "metadata": {
        "id": "w1QgeWd2HElp"
      },
      "source": [
        "### Task 2\n",
        "\n",
        "Suppose you have a list named my_list as given below. <br/>\n",
        "my_list = [10,1,20,3,6,2,5,11,15,2,12,14,17,18,29] <br/>\n",
        "Now use selection sort to sort my_list into ascending order.\n",
        "\n",
        "**Output**<br/>\n",
        "[1, 2, 2, 3, 5, 6, 10, 11, 12, 14, 15, 17, 18, 20, 29]\n",
        "\n"
      ]
    },
    {
      "cell_type": "code",
      "metadata": {
        "id": "am0B_8ICHElq",
        "colab": {
          "base_uri": "https://localhost:8080/"
        },
        "outputId": "cc2d28cb-cb8f-437d-9b2c-1992da784514"
      },
      "source": [
        "#todo Selection sort starts arranging the elements from the bottom\n",
        "my_list = [10,1,20,3,6,2,5,11,15,2,12,14,17,18,29]\n",
        "\n",
        "for i in range(len(my_list)):\n",
        "  min=my_list[i]\n",
        "  min_idx=i\n",
        "  for j in range(i+1,len(my_list)):\n",
        "    if my_list[j]<min:\n",
        "      min=my_list[j]\n",
        "      min_idx=j\n",
        "  temp=my_list[min_idx]\n",
        "  my_list[min_idx]=my_list[i]\n",
        "  my_list[i]=temp\n",
        "print(my_list)"
      ],
      "execution_count": null,
      "outputs": [
        {
          "output_type": "stream",
          "name": "stdout",
          "text": [
            "[1, 2, 2, 3, 5, 6, 10, 11, 12, 14, 15, 17, 18, 20, 29]\n"
          ]
        }
      ]
    },
    {
      "cell_type": "markdown",
      "metadata": {
        "id": "j4ffr2CAHElt"
      },
      "source": [
        "### Task  3\n",
        "\n",
        "Suppose you have a list named my_list as given below <br/>\n",
        "my_list=[10,1,20,3,6,2,5,11,15,2,12,14,17,18,29] <br/>\n",
        "Now use any of the two sorting techniques you have used above to sort the list in descending order.\n",
        "\n",
        "**Output**<br/>\n",
        "[29, 20, 18, 17, 15, 14, 12, 11, 10, 6, 5, 3, 2, 2, 1]\n"
      ]
    },
    {
      "cell_type": "code",
      "metadata": {
        "id": "n2X3YR-_HElt",
        "colab": {
          "base_uri": "https://localhost:8080/"
        },
        "outputId": "a256889a-2c51-4381-c0c9-8375ce193d36"
      },
      "source": [
        "#todo\n",
        "my_list=[10,1,20,3,6,2,5,11,15,2,12,14,17,18,29]\n",
        "for i in range(len(my_list)):\n",
        "  max=my_list[i]\n",
        "  max_idx=i\n",
        "  for j in range(i+1,len(my_list)):\n",
        "    if my_list[j]>max:\n",
        "      max=my_list[j]\n",
        "      max_idx=j\n",
        "  temp=my_list[max_idx]\n",
        "  my_list[max_idx]=my_list[i]\n",
        "  my_list[i]=temp\n",
        "print(my_list)"
      ],
      "execution_count": null,
      "outputs": [
        {
          "output_type": "stream",
          "name": "stdout",
          "text": [
            "[29, 20, 18, 17, 15, 14, 12, 11, 10, 6, 5, 3, 2, 2, 1]\n"
          ]
        }
      ]
    },
    {
      "cell_type": "markdown",
      "metadata": {
        "id": "9iYiiTWWHElw"
      },
      "source": [
        "### Task 4\n",
        "\n",
        "Suppose you have a sitting arrangement of the students who will give the final exam in a list. The list contains the last two digits of their student ID as given below.<br/>\n",
        "\n",
        "sitting_list = [10,30,20,70,11,15,22,16,58,100,12,56,70,80] <br/>\n",
        "\n",
        "Now you want to organize the sitting arrangement of the students in your own way. You decide to sort all the students in the even indices of the list in ascending order and all the students in the odd indices of the list in descending order.  <br/>\n",
        "\n",
        "So, write a python program that organizes the list for you in this way.<br/>\n",
        "\n",
        "\n",
        "**Sample Output**<br/>\n",
        "[10, 100, 11, 80, 12, 70, 20, 56, 22, 30, 58, 16, 70, 15]"
      ]
    },
    {
      "cell_type": "code",
      "metadata": {
        "id": "nPdUAKDJHElw",
        "colab": {
          "base_uri": "https://localhost:8080/"
        },
        "outputId": "9df42f63-1742-4fe8-c480-a2798ec0f272"
      },
      "source": [
        "#todo\n",
        "sitting_list = [10,30,20,70,11,15,22,16,58,100,12,56,70,80]\n",
        "even=[]\n",
        "odd=[]\n",
        "new=[]\n",
        "\n",
        "for i in range(len(sitting_list)):\n",
        "  if i%2==0:\n",
        "    even.append(sitting_list[i])\n",
        "  else:\n",
        "    odd.append(sitting_list[i])\n",
        "even=sorted(even)\n",
        "odd=sorted(odd,reverse=True)\n",
        "\n",
        "for i in range(len(even)):\n",
        "  new.append(even[i])\n",
        "  new.append(odd[i])\n",
        "print(new)"
      ],
      "execution_count": null,
      "outputs": [
        {
          "output_type": "stream",
          "name": "stdout",
          "text": [
            "[10, 100, 11, 80, 12, 70, 20, 56, 22, 30, 58, 16, 70, 15]\n"
          ]
        }
      ]
    },
    {
      "cell_type": "markdown",
      "metadata": {
        "id": "oVR1Tsa0HElz"
      },
      "source": [
        "### Task 5\n",
        "\n",
        "Suppose a list contains marks earned in the courses CSE110, PHY111, and MAT110 of each student consecutively in a nested list form. Your task is to take a course name as input from the user and sort the list based on the marks obtained in that course in order to finally print the names of the students in descending order of marks obtained i.e. from the student who earned the highest marks to the student who earned the lowest. <br/>\n",
        "\n",
        "For example, the list may look like <br/>\n",
        "lst = [ [\"Alan\", 95, 87, 91], [\"Turing\", 92, 90, 83], [\"Elon\", 87, 92, 80], [\"Musk\", 85, 94, 90] ] <br/>\n",
        "where for each nested list, 1st index holds the name of the student, 2nd index is total marks earned in the CSE110 course, 3rd index is PHY111 marks and 4th index is MAT110 marks. \n",
        "\n",
        "=====================================================\n",
        "\n",
        "**Hint:**<br/>\n",
        "You may create a function for sorting, then call it every time when needed instead of rewriting the code.\n",
        "\n",
        "You may get the data in the individual lists from the given nested list.\n",
        "\n",
        "=====================================================\n",
        "\n",
        "**Sample Input 1**<br/>\n",
        "MAT110\n",
        "\n",
        "**Sample Output 1**<br/>\n",
        "Alan <br/>\n",
        "Musk <br/>\n",
        "Turing <br/>\n",
        "Elon\n",
        "\n",
        "**Explanation:**<br/>\n",
        "Here the user gives us \"MAT110\" as the course name. Now, the students Alan, Turing, Elon and Musk earned 91, 83, 80 and 90 marks respectively in this course. If we sort it, Alan got the highest marks of 91 followed by Musk with 90 marks and Turing with 83 marks. Among these 4 students, Elon obtained the lowest marks in the MAT110 course with 80 marks. All of these has been illustrated in our sample output.\n",
        "\n",
        "=====================================================\n",
        "\n",
        "**Sample Input 2**<br/>\n",
        "PHY111\n",
        "\n",
        "**Sample Output 2**<br/>\n",
        "Musk <br/>\n",
        "Elon <br/>\n",
        "Turing <br/>\n",
        "Alan"
      ]
    },
    {
      "cell_type": "code",
      "metadata": {
        "id": "539b2P1NHElz",
        "colab": {
          "base_uri": "https://localhost:8080/"
        },
        "outputId": "30683e2f-6fc7-409c-9a24-4e6cd8b7978a"
      },
      "source": [
        "#todo\n",
        "lst = [ [\"Alan\", 95, 87, 91], [\"Turing\", 92, 90, 83], [\"Elon\", 87, 92, 80], [\"Musk\", 85, 94, 90] ]\n",
        "course_code=input(\"sir,enter your desired course: \")\n",
        "\n",
        "if course_code==\"CSE110\":\n",
        "  index=1\n",
        "elif course_code==\"PHY111\":\n",
        "  index=2\n",
        "elif course_code==\"MAT110\":\n",
        "  index=3\n",
        "\n",
        "for i in range(len(lst)):\n",
        "  max=lst[i][index]\n",
        "  max_idx=i\n",
        "  max_list=lst[i]\n",
        "\n",
        "  for j in range(i+1,len(lst)):\n",
        "    if lst[j][index]>max:\n",
        "      max=lst[j][index]\n",
        "      max_idx=j\n",
        "      max_list=lst[j]\n",
        "\n",
        "  temp=max_list\n",
        "  lst[max_idx]=lst[i]\n",
        "  lst[i]=temp\n",
        "\n",
        "for k in range(0,len(lst)):\n",
        "  print(lst[k][0])"
      ],
      "execution_count": null,
      "outputs": [
        {
          "output_type": "stream",
          "name": "stdout",
          "text": [
            "sir,enter your desired course: phy111\n",
            "Musk\n",
            "Elon\n",
            "Turing\n",
            "Alan\n"
          ]
        }
      ]
    },
    {
      "cell_type": "markdown",
      "metadata": {
        "id": "B0Rqbyi4HEl2"
      },
      "source": [
        "### Task 6\n",
        "\n",
        "Suppose you have a list named my_list as given below. Your task is to sort the list in ascending order and print the count of numbers that have changed their positions in the process of sorting. <br/>\n",
        "\n",
        "my_list = [4, 2, 3, 1, 6, 5] <br/>\n",
        "\n",
        "Sorted list would be [1, 2, 3, 4, 5, 6] where 4 numbers (4, 1, 6 and 5) have changed their positions. Therefore our sample output here would be 4. Please check if your code is working correctly by changing the above list and using the knowledge given here to verify whether your code gives correct output for all different lists.\n",
        "\n",
        "\n",
        "**Sample Output for the above list**<br/>\n",
        "4"
      ]
    },
    {
      "cell_type": "code",
      "metadata": {
        "id": "AMc8jAa7HEl2",
        "colab": {
          "base_uri": "https://localhost:8080/"
        },
        "outputId": "76c5939a-ae30-4636-cb7d-524f3bb1ebca"
      },
      "source": [
        "#todo\n",
        "my_list = [4, 2, 3, 1, 6, 5]\n",
        "new=[]\n",
        "#selection sort\n",
        "for i in range(len(my_list)):\n",
        "  min=my_list[i]\n",
        "  min_idx=i\n",
        "  for j in range(i+1,len(my_list)):\n",
        "    if my_list[j]<min:\n",
        "      min=my_list[j]\n",
        "      min_idx=j\n",
        "  if (min!=my_list[i]):\n",
        "    temp=my_list[min_idx]\n",
        "    my_list[min_idx]=my_list[i]\n",
        "    my_list[i]=temp\n",
        "    new.append(temp)\n",
        "    new.append(my_list[min_idx])\n",
        "print(len(new))"
      ],
      "execution_count": null,
      "outputs": [
        {
          "output_type": "stream",
          "name": "stdout",
          "text": [
            "4\n"
          ]
        }
      ]
    },
    {
      "cell_type": "markdown",
      "metadata": {
        "id": "iIH5n0sJHEl5"
      },
      "source": [
        "### Task 7\n",
        "\n",
        "Write a python program that takes two lists from the user, merges the two lists, sorts the resulting list, and then finds the median of the elements in the two lists.\n",
        "\n",
        "=====================================================\n",
        "\n",
        "\n",
        "**Sample Input 1**<br/>\n",
        "list_one = [1, 2, 1, 4] <br/>\n",
        "list_two = [5, 4, 1]\n",
        "\n",
        "\n",
        "**Sample Output 1**<br/>\n",
        "Sorted list = [1, 1, 1, 2, 4, 4, 5] <br/>\n",
        "Median = 2\n",
        "\n",
        "=====================================================\n",
        "\n",
        "\n",
        "**Sample Input 2**<br/>\n",
        "list_one = [1, 7, 9, 10] <br/>\n",
        "list_two = [2, 7, 6, 5]\n",
        "\n",
        "\n",
        "**Sample Output 2**<br/>\n",
        "Sorted list = [1, 2, 5, 6, 7, 7, 9, 10] <br/>\n",
        "Median = 6.5\n",
        "\n"
      ]
    },
    {
      "cell_type": "code",
      "metadata": {
        "id": "KsFxC7XbHEl6",
        "colab": {
          "base_uri": "https://localhost:8080/"
        },
        "outputId": "1cd617e0-fdd4-4516-d50d-ce7396039b2e"
      },
      "source": [
        "#todo\n",
        "user1=input()[1:-1].split(\", \")\n",
        "list_one=[]\n",
        "for i in user1:\n",
        "  list_one.append(int(i))\n",
        "\n",
        "user2=input()[1:-1].split(\", \")\n",
        "list_two=[]\n",
        "for i in user2:\n",
        "  list_two.append(int(i))\n",
        "\n",
        "merged_list=list_one+list_two\n",
        "sort_list=sorted(merged_list)\n",
        "print(\"Sorted list=\",sort_list)\n",
        "\n",
        "lenght= len(sort_list)\n",
        "if lenght%2!=0:\n",
        "  print(\"Median=\",int(sort_list[lenght//2]))\n",
        "else:\n",
        "  print(\"Median=\",(sort_list[lenght//2]+sort_list[lenght//2-1])/2)"
      ],
      "execution_count": null,
      "outputs": [
        {
          "output_type": "stream",
          "name": "stdout",
          "text": [
            "[1, 2, 1, 4]\n",
            "[5, 4, 1]\n",
            "Sorted list= [1, 1, 1, 2, 4, 4, 5]\n",
            "Median= 2\n"
          ]
        }
      ]
    },
    {
      "cell_type": "markdown",
      "metadata": {
        "id": "-XKiwBR1HEl8"
      },
      "source": [
        "### Task 8\n",
        "\n",
        "\n",
        "Write a python program that takes a list from user containing both positive and negative numbers. The program then finds two pairs of values whose summation is closest to zero.\n",
        "\n",
        "=====================================================\n",
        "\n",
        "**Sample Input 1**<br/>\n",
        "list_one = [-10, 15, 2, 4, -4, 7, -8] \n",
        "\n",
        "\n",
        "**Sample Output 1**<br/>\n",
        "Two pairs which have the smallest sum = 4 and -4\n",
        "\n",
        "=====================================================\n",
        "\n",
        "\n",
        "**Sample Input 2**<br/>\n",
        "list_one = [1, -8, 4, -7, -20, 26, 70, -85]\n",
        "\n",
        "\n",
        "**Sample Output 2**<br/>\n",
        "Two pairs which have the smallest sum = 4 and -7"
      ]
    },
    {
      "cell_type": "code",
      "metadata": {
        "id": "5ORSGa5GHEl9",
        "colab": {
          "base_uri": "https://localhost:8080/"
        },
        "outputId": "41349335-6def-4b64-d4b4-a87b27670f89"
      },
      "source": [
        "#todo\n",
        "user=input()[1:-1].split(\", \")\n",
        "list_one=[]\n",
        "for i in user:\n",
        "  list_one.append(int(i))\n",
        "def absolute(num):\n",
        "  if num<0:\n",
        "    num=num*(-1)\n",
        "  return num\n",
        "sum=absolute(list_one[0]+list_one[1])\n",
        "num1=list_one[0]\n",
        "num2=list_one[1]\n",
        "for i in range(len(list_one)):\n",
        "  for j in range(i+1,len(list_one)):\n",
        "    if absolute(list_one[j]+list_one[i])<sum:\n",
        "      sum=absolute(list_one[j]+list_one[i])\n",
        "      num2=list_one[j]\n",
        "      num1=list_one[i]\n",
        "print(\"Two pairs which have the smallest sum =\",num1,\"and\",num2)"
      ],
      "execution_count": null,
      "outputs": [
        {
          "output_type": "stream",
          "name": "stdout",
          "text": [
            "[-10, 15, 2, 4, -4, 7, -8]\n",
            "Two pairs which have the smallest sum = 4 and -4\n"
          ]
        }
      ]
    }
  ]
}